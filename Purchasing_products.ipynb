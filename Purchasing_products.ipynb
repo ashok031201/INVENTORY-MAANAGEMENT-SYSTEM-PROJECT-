{
  "nbformat": 4,
  "nbformat_minor": 0,
  "metadata": {
    "colab": {
      "name": "Purchasing products.ipynb",
      "provenance": [],
      "collapsed_sections": []
    },
    "kernelspec": {
      "name": "python3",
      "display_name": "Python 3"
    },
    "language_info": {
      "name": "python"
    }
  },
  "cells": [
    {
      "cell_type": "markdown",
      "metadata": {
        "id": "eGs3feZ2wxXj"
      },
      "source": [
        "***PURCHASING PRODUCTS***\n"
      ]
    },
    {
      "cell_type": "code",
      "metadata": {
        "id": "Ap7q3jkjnjPI",
        "colab": {
          "base_uri": "https://localhost:8080/"
        },
        "outputId": "9c197d4a-d8ca-4761-fcc1-3933e7782fc0"
      },
      "source": [
        "import json\n",
        "fd=open(\"record.json\",\"r\")\n",
        "r=fd.read()\n",
        "fd.close()\n",
        "record=json.loads(r)\n",
        "\n",
        "import time\n",
        "t=time.ctime()\n",
        "\n",
        "ui_prod=str(input(\"Enter product id : \"))\n",
        "ui_quant=int(input(\"Enter the quantity : \"))\n",
        "\n",
        "if (ui_prod in record):\n",
        "    if ui_quant < record[ui_prod][\"Quantity\"]:\n",
        "        print(\"Product : \",record[ui_prod][\"item\"])\n",
        "        print(\"Colour : \",record[ui_prod][\"colour\"])\n",
        "        print(\"Material type : \",record[ui_prod][\"material_type\"])\n",
        "        print(\"Price : \",record[ui_prod][\"price\"])\n",
        "        print(\"Quantity : \",ui_quant)\n",
        "        print(\"****************\")\n",
        "        print(\"Billnng amount : \",record[ui_prod][\"price\"]*ui_quant)\n",
        "        print(\"****************\")\n",
        "        print(\"Time : \",t)\n",
        "        record[ui_prod][\"Quantity\"]=record[ui_prod][\"Quantity\"]-ui_quant\n",
        "    else:\n",
        "        print(\"we have only\",record[ui_prod][\"Quantity\"],\"Quantity\")\n",
        "else:\n",
        "    print(\"Enter a valid product id\")\n",
        "\n",
        "js=json.dumps(record)\n",
        "fd=open(\"record.json\",\"w\")\n",
        "fd.write(js)\n",
        "fd.close()"
      ],
      "execution_count": 94,
      "outputs": [
        {
          "output_type": "stream",
          "name": "stdout",
          "text": [
            "Enter product id : 1010227\n",
            "Enter the quantity : 1\n",
            "Product :  water bottle\n",
            "Colour :  white\n",
            "Material type :  steel\n",
            "Price :  250\n",
            "Quantity :  1\n",
            "****************\n",
            "Billnng amount :  250\n",
            "****************\n",
            "Time :  Mon Sep  6 10:50:41 2021\n"
          ]
        }
      ]
    },
    {
      "cell_type": "code",
      "metadata": {
        "id": "Qc2VJEWmgtiO"
      },
      "source": [
        ""
      ],
      "execution_count": null,
      "outputs": []
    },
    {
      "cell_type": "code",
      "metadata": {
        "id": "1Kj3ht80gtzR"
      },
      "source": [
        ""
      ],
      "execution_count": null,
      "outputs": []
    },
    {
      "cell_type": "markdown",
      "metadata": {
        "id": "fYFHdcygro7J"
      },
      "source": [
        "***SALES***"
      ]
    },
    {
      "cell_type": "code",
      "metadata": {
        "id": "l2ARDBNOgt3B"
      },
      "source": [
        ""
      ],
      "execution_count": 83,
      "outputs": []
    },
    {
      "cell_type": "code",
      "metadata": {
        "id": "Ecvq_cq1gt7i"
      },
      "source": [
        "\n",
        "\n",
        "if (ui_quant<record[ui_prod][\"Quantity\"]):   \n",
        "    sales[(len(sales)+1)]= {\"prod\":record[ui_prod][\"item\"],\"Quantity\":ui_quant,\"Amount\":record[ui_prod][\"price\"]*ui_quant,\"Time\":t}\n",
        "\n",
        "\n",
        "\n",
        "r=json.dumps(sales)\n",
        "fd=open(\"sales.json\",\"w\")\n",
        "fd.write(r)\n",
        "\n",
        "fd.close()"
      ],
      "execution_count": 95,
      "outputs": []
    },
    {
      "cell_type": "code",
      "metadata": {
        "id": "C0cO9Ldxu1dB"
      },
      "source": [
        ""
      ],
      "execution_count": null,
      "outputs": []
    },
    {
      "cell_type": "code",
      "metadata": {
        "id": "lozBJOLgvVFt"
      },
      "source": [
        ""
      ],
      "execution_count": null,
      "outputs": []
    },
    {
      "cell_type": "code",
      "metadata": {
        "id": "jez-C6x3vikj"
      },
      "source": [
        ""
      ],
      "execution_count": null,
      "outputs": []
    },
    {
      "cell_type": "code",
      "metadata": {
        "id": "_ZvgH9kXu4ul"
      },
      "source": [
        "sales={1:{\"prod\":record[ui_prod][\"item\"],\"Quantity\":ui_quant,\"Amount\":record[ui_prod][\"price\"]*ui_quant,\"Time\":t}}"
      ],
      "execution_count": null,
      "outputs": []
    },
    {
      "cell_type": "code",
      "metadata": {
        "id": "C2pHFvoSvYLS"
      },
      "source": [
        ""
      ],
      "execution_count": null,
      "outputs": []
    }
  ]
}