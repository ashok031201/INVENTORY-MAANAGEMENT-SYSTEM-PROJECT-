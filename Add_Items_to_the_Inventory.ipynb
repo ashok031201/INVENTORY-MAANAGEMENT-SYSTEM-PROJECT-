{
  "nbformat": 4,
  "nbformat_minor": 0,
  "metadata": {
    "colab": {
      "name": "Add Items to the Inventory.ipynb",
      "provenance": [],
      "collapsed_sections": []
    },
    "kernelspec": {
      "name": "python3",
      "display_name": "Python 3"
    },
    "language_info": {
      "name": "python"
    }
  },
  "cells": [
    {
      "cell_type": "code",
      "metadata": {
        "colab": {
          "base_uri": "https://localhost:8080/"
        },
        "id": "WcRDMorNah2Y",
        "outputId": "1caa27d3-0a7e-41af-cc85-5c070f58017b"
      },
      "source": [
        "import json\n",
        "fd=open(\"record.json\",\"r\")\n",
        "r=fd.read()\n",
        "fd.close()\n",
        "record=json.loads(r)\n",
        "prod_id=str(input(\"Enter the product id:\"))\n",
        "Item=str(input(\"Enter the Item:\"))\n",
        "colour=str(input(\"Enter the colour:\"))\n",
        "material_type=str(input(\"Enter Material type:\"))\n",
        "price=int(input(\"Enter the price:\"))\n",
        "quantity=int(input(\"Enter the quantity:\"))\n",
        "if prod_id in record:\n",
        "    for i in record:\n",
        "        if (i==prod_id):\n",
        "            record[prod_id][\"Quantity\"]+=quantity     \n",
        "else: \n",
        "    record[prod_id]={\"item\":Item,\"colour\":colour,\"material_type\":material_type,\"price\":price,\"Quantity\":quantity}\n",
        "\n",
        "    \n",
        "\n",
        "js=json.dumps(record)\n",
        "fd=open(\"record.json\",\"w\")\n",
        "fd.write(js)\n",
        "\n",
        "fd.close()\n"
      ],
      "execution_count": 4,
      "outputs": [
        {
          "name": "stdout",
          "output_type": "stream",
          "text": [
            "Enter the product id:1010201\n",
            "Enter the Item:T-shirt\n",
            "Enter the colour:white\n",
            "Enter Material type:cotton\n",
            "Enter the price:450\n",
            "Enter the quantity:10\n"
          ]
        }
      ]
    }
  ]
}